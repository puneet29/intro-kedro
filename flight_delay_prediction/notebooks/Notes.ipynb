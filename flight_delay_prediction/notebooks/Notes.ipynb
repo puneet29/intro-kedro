{
 "cells": [
  {
   "cell_type": "markdown",
   "id": "d580457b",
   "metadata": {},
   "source": [
    "# Reducing IO with Partitioned DataSet\n",
    "\n",
    "### What is partitioned data?\n",
    "\n",
    "Data that is grouped and saved by a particular key and value\n",
    "\n",
    "### Why have partitioned data?\n",
    "\n",
    "To reduce IO and make loading/saving more efficient\n",
    "\n",
    "### How to partition a dataset in kedro?\n",
    "\n",
    "1. Using a PartitionedDataSet\n",
    "2. We will borrow data from kaggle. (Flight delay prediction)\n",
    "\n",
    "For reference, refer to the nodes.py inside pipelines folder."
   ]
  },
  {
   "cell_type": "markdown",
   "id": "b11c3420",
   "metadata": {},
   "source": [
    "# Why and how to use Incremental DataSet\n",
    "\n",
    "### What is incremental data?\n",
    "Data that is updated by appending new rows to the already existing data, rather than dumping all the data at once.\n",
    "\n",
    "### Why should we do incremental computation?\n",
    "Instead of reading in the entire set of data every time, and recalculating your data, you can simply calculate only on incremental changes.\n",
    "\n",
    "### How do we do incremental computation?\n",
    "1. Using the Kedro IncrementalDataSet.\n",
    "2. Default increment is descending order.\n",
    "3. Confirms will add a checkpoint to note the processing"
   ]
  },
  {
   "cell_type": "code",
   "execution_count": null,
   "id": "70c0f81f",
   "metadata": {},
   "outputs": [],
   "source": []
  }
 ],
 "metadata": {
  "kernelspec": {
   "display_name": "flight_delay_prediction",
   "language": "python",
   "name": "python3"
  },
  "language_info": {
   "codemirror_mode": {
    "name": "ipython",
    "version": 3
   },
   "file_extension": ".py",
   "mimetype": "text/x-python",
   "name": "python",
   "nbconvert_exporter": "python",
   "pygments_lexer": "ipython3",
   "version": "3.8.12"
  }
 },
 "nbformat": 4,
 "nbformat_minor": 5
}
