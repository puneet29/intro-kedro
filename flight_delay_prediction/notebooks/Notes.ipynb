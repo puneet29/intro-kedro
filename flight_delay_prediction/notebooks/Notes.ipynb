{
 "cells": [
  {
   "cell_type": "markdown",
   "id": "d580457b",
   "metadata": {},
   "source": [
    "# Reducing IO with Partitioned DataSet\n",
    "\n",
    "### What is partitioned data?\n",
    "\n",
    "Data that is grouped and saved by a particular key and value\n",
    "\n",
    "### Why have partitioned data?\n",
    "\n",
    "To reduce IO and make loading/saving more efficient\n",
    "\n",
    "### How to partition a dataset in kedro?\n",
    "\n",
    "1. Using a PartitionedDataSet\n",
    "2. We will borrow data from kaggle. (Flight delay prediction)\n"
   ]
  },
  {
   "cell_type": "code",
   "execution_count": null,
   "id": "70c0f81f",
   "metadata": {},
   "outputs": [],
   "source": []
  }
 ],
 "metadata": {
  "kernelspec": {
   "display_name": "flight_delay_prediction",
   "language": "python",
   "name": "python3"
  },
  "language_info": {
   "codemirror_mode": {
    "name": "ipython",
    "version": 3
   },
   "file_extension": ".py",
   "mimetype": "text/x-python",
   "name": "python",
   "nbconvert_exporter": "python",
   "pygments_lexer": "ipython3",
   "version": "3.8.12"
  }
 },
 "nbformat": 4,
 "nbformat_minor": 5
}
